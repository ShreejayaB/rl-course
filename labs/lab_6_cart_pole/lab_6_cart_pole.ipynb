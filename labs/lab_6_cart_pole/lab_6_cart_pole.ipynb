{
 "cells": [
  {
   "cell_type": "markdown",
   "metadata": {
    "nbgrader": {
     "grade": false,
     "grade_id": "cell-cd506a83f2749987",
     "locked": true,
     "schema_version": 3,
     "solution": false
    },
    "toc": true
   },
   "source": [
    "<h1>Table of Contents<span class=\"tocSkip\"></span></h1>\n",
    "<div class=\"toc\"><ul class=\"toc-item\"><li><span><a href=\"#CartPole,-aka-Inverted-Pendulum\" data-toc-modified-id=\"CartPole,-aka-Inverted-Pendulum-1\">CartPole, aka Inverted Pendulum</a></span></li><li><span><a href=\"#OpenAI's-CartPole-Environment\" data-toc-modified-id=\"OpenAI's-CartPole-Environment-2\">OpenAI's CartPole Environment</a></span></li><li><span><a href=\"#Define-Environment\" data-toc-modified-id=\"Define-Environment-3\">Define Environment</a></span></li><li><span><a href=\"#Define-Neural-Network-\" data-toc-modified-id=\"Define-Neural-Network--4\">Define Neural Network </a></span></li><li><span><a href=\"#Define-Agent\" data-toc-modified-id=\"Define-Agent-5\">Define Agent</a></span></li><li><span><a href=\"#Train-the-model\" data-toc-modified-id=\"Train-the-model-6\">Train the model</a></span></li><li><span><a href=\"#Test-the-model\" data-toc-modified-id=\"Test-the-model-7\">Test the model</a></span></li><li><span><a href=\"#Grading-Submission-Notes\" data-toc-modified-id=\"Grading-Submission-Notes-8\">Grading Submission Notes</a></span></li><li><span><a href=\"#Bonus-Material\" data-toc-modified-id=\"Bonus-Material-9\">Bonus Material</a></span></li></ul></div>"
   ]
  },
  {
   "cell_type": "markdown",
   "metadata": {
    "nbgrader": {
     "grade": false,
     "grade_id": "cell-d1bf5f4c89e7e2d5",
     "locked": true,
     "schema_version": 3,
     "solution": false
    }
   },
   "source": [
    "<center><h2>CartPole, aka Inverted Pendulum</h2></center>\n",
    "<br>\n",
    "<center><img src=\"https://upload.wikimedia.org/wikipedia/commons/thumb/0/00/Cart-pendulum.svg/300px-Cart-pendulum.svg.png\" width=\"35%\"/></center>\n",
    "<br><br><br>\n",
    "<center><a href=\"https://fluxml.ai/experiments/cartPole/\">Demo!</a></center>\n",
    "\n"
   ]
  },
  {
   "cell_type": "markdown",
   "metadata": {
    "nbgrader": {
     "grade": false,
     "grade_id": "cell-c0d33663507134a1",
     "locked": true,
     "schema_version": 3,
     "solution": false
    }
   },
   "source": [
    "<center><h2>OpenAI's CartPole Environment</h2></center>\n",
    "\n",
    "A pole is attached to a cart by an un-actuated joint, and the cart moves along a frictionless track. \n",
    "\n",
    "The system is controlled by applying a force of +1 or -1 (e.g., left or right) to the cart. \n",
    "\n",
    "The pendulum starts upright, and the goal is to prevent it from falling over. \n",
    "\n",
    "A reward of +1 is provided for every time-step that the pole remains upright. \n",
    "\n",
    "The episode ends when:\n",
    "\n",
    "- The pole is more than 15 degrees from the vertical.\n",
    "- The cart moves more than 2.4 units from the center.\n",
    "- 200 time-steps.\n"
   ]
  },
  {
   "cell_type": "code",
   "execution_count": 13,
   "metadata": {
    "nbgrader": {
     "grade": false,
     "grade_id": "cell-a51a351b15ae43c6",
     "locked": true,
     "schema_version": 3,
     "solution": false
    }
   },
   "outputs": [],
   "source": [
    "reset -fs"
   ]
  },
  {
   "cell_type": "markdown",
   "metadata": {
    "nbgrader": {
     "grade": false,
     "grade_id": "cell-921bed7526659b48",
     "locked": true,
     "schema_version": 3,
     "solution": false
    }
   },
   "source": [
    "Define Environment\n",
    "----"
   ]
  },
  {
   "cell_type": "code",
   "execution_count": 14,
   "metadata": {
    "nbgrader": {
     "grade": false,
     "grade_id": "cell-a0ee8aaeb24a3546",
     "locked": true,
     "schema_version": 3,
     "solution": false
    }
   },
   "outputs": [],
   "source": [
    "import gym \n",
    "import numpy as np"
   ]
  },
  {
   "cell_type": "code",
   "execution_count": 15,
   "metadata": {
    "nbgrader": {
     "grade": false,
     "grade_id": "cell-5d203326bbc89312",
     "locked": true,
     "schema_version": 3,
     "solution": false
    }
   },
   "outputs": [],
   "source": [
    "env = gym.make('CartPole-v0')"
   ]
  },
  {
   "cell_type": "code",
   "execution_count": 16,
   "metadata": {
    "nbgrader": {
     "grade": false,
     "grade_id": "cell-3586114c91bc0040",
     "locked": true,
     "schema_version": 3,
     "solution": false
    }
   },
   "outputs": [
    {
     "name": "stdout",
     "output_type": "stream",
     "text": [
      "State size:   4\n",
      "Action size:  2\n"
     ]
    }
   ],
   "source": [
    "# Let's see how the RL problem is formulated\n",
    "n_states = env.observation_space.shape\n",
    "print('State size:  ',  n_states[0])\n",
    "n_actions = env.action_space.n\n",
    "print('Action size: ', n_actions)"
   ]
  },
  {
   "cell_type": "markdown",
   "metadata": {
    "nbgrader": {
     "grade": false,
     "grade_id": "cell-ca36a212eeea495d",
     "locked": true,
     "schema_version": 3,
     "solution": false
    }
   },
   "source": [
    "Let's read the docs:\n",
    "https://github.com/openai/gym/wiki/CartPole-v0\n",
    "\n",
    "Let's read the code: https://github.com/openai/gym/blob/master/gym/envs/classic_control/cartpole.py"
   ]
  },
  {
   "cell_type": "markdown",
   "metadata": {
    "nbgrader": {
     "grade": false,
     "grade_id": "cell-8bcc9787c79a0cad",
     "locked": true,
     "schema_version": 3,
     "solution": false
    }
   },
   "source": [
    "Define Neural Network \n",
    "-----"
   ]
  },
  {
   "cell_type": "code",
   "execution_count": 17,
   "metadata": {
    "nbgrader": {
     "grade": false,
     "grade_id": "cell-3e745c5cae78ac45",
     "locked": true,
     "schema_version": 3,
     "solution": false
    }
   },
   "outputs": [],
   "source": [
    "from tensorflow.keras.models import Sequential\n",
    "from tensorflow.keras.layers import Dense, Activation, Flatten\n",
    "from tensorflow.keras.optimizers import Adam"
   ]
  },
  {
   "cell_type": "code",
   "execution_count": 18,
   "metadata": {
    "nbgrader": {
     "grade": false,
     "grade_id": "cell-e85f9aa5db75db9f",
     "locked": true,
     "schema_version": 3,
     "solution": false
    }
   },
   "outputs": [],
   "source": [
    "# Define a sample model\n",
    "model = Sequential()\n",
    "model.add(Flatten(input_shape=(1,) + n_states))\n",
    "model.add(Dense(24, activation='sigmoid'))\n",
    "model.add(Dense(n_actions, activation='linear'))"
   ]
  },
  {
   "cell_type": "code",
   "execution_count": 19,
   "metadata": {
    "nbgrader": {
     "grade": true,
     "grade_id": "cell-2231bf938a827285",
     "locked": false,
     "points": 0,
     "schema_version": 3,
     "solution": true
    }
   },
   "outputs": [
    {
     "name": "stdout",
     "output_type": "stream",
     "text": [
      "Model: \"sequential_1\"\n",
      "_________________________________________________________________\n",
      "Layer (type)                 Output Shape              Param #   \n",
      "=================================================================\n",
      "flatten_1 (Flatten)          (None, 4)                 0         \n",
      "_________________________________________________________________\n",
      "dense_2 (Dense)              (None, 24)                120       \n",
      "_________________________________________________________________\n",
      "dense_3 (Dense)              (None, 2)                 50        \n",
      "=================================================================\n",
      "Total params: 170\n",
      "Trainable params: 170\n",
      "Non-trainable params: 0\n",
      "_________________________________________________________________\n",
      "None\n"
     ]
    }
   ],
   "source": [
    "# Define your model\n",
    "\n",
    "# TODO: Write your model with comments\n",
    "\n",
    "\n",
    "\n",
    "\n",
    "\n",
    "print(model.summary())"
   ]
  },
  {
   "cell_type": "markdown",
   "metadata": {
    "nbgrader": {
     "grade": false,
     "grade_id": "cell-bbdd905ca8215804",
     "locked": true,
     "schema_version": 3,
     "solution": false
    }
   },
   "source": [
    "Define Agent\n",
    "----"
   ]
  },
  {
   "cell_type": "code",
   "execution_count": 20,
   "metadata": {},
   "outputs": [],
   "source": [
    "# We are using keras-rl2 because we are using TensorFlow 2.\n",
    "# Please use the updated environment to get correct version."
   ]
  },
  {
   "cell_type": "code",
   "execution_count": 21,
   "metadata": {
    "nbgrader": {
     "grade": false,
     "grade_id": "cell-49f915c829089899",
     "locked": true,
     "schema_version": 3,
     "solution": false
    }
   },
   "outputs": [],
   "source": [
    "# Define memory\n",
    "\n",
    "from rl.memory import SequentialMemory\n",
    "\n",
    "memory = SequentialMemory(limit=50_000, \n",
    "                          window_length=1)"
   ]
  },
  {
   "cell_type": "code",
   "execution_count": 22,
   "metadata": {
    "nbgrader": {
     "grade": false,
     "grade_id": "cell-b0e77786def2fac8",
     "locked": true,
     "schema_version": 3,
     "solution": false
    }
   },
   "outputs": [],
   "source": [
    "# Define sample policy\n",
    "\n",
    "from rl.policy import GreedyQPolicy\n",
    "\n",
    "policy = GreedyQPolicy()"
   ]
  },
  {
   "cell_type": "code",
   "execution_count": 23,
   "metadata": {
    "nbgrader": {
     "grade": true,
     "grade_id": "cell-e3d15f2a794ccbad",
     "locked": false,
     "points": 0,
     "schema_version": 3,
     "solution": true
    }
   },
   "outputs": [],
   "source": [
    "# Define your policy\n",
    "\n",
    "# TODO: Write your policy with comments\n",
    "\n"
   ]
  },
  {
   "cell_type": "code",
   "execution_count": 24,
   "metadata": {
    "nbgrader": {
     "grade": true,
     "grade_id": "cell-dabdbe3e55483280",
     "locked": false,
     "points": 0,
     "schema_version": 3,
     "solution": true
    }
   },
   "outputs": [],
   "source": [
    "# Define your agent\n",
    "\n",
    "from rl.agents.dqn import DQNAgent\n",
    "\n",
    "dqn = DQNAgent(model=model, \n",
    "               nb_actions=env.action_space.n, \n",
    "               memory=memory,\n",
    "               nb_steps_warmup=15,\n",
    "               target_model_update=1e-2,\n",
    "               policy=policy)\n",
    "\n",
    "dqn.compile(Adam(lr=1e-3), \n",
    "            metrics=['mae'])\n",
    "\n"
   ]
  },
  {
   "cell_type": "code",
   "execution_count": 25,
   "metadata": {},
   "outputs": [],
   "source": [
    "# Note: \n",
    "\n",
    "# You may get a `TypeError` from TensorFlow when running the last cell \n",
    "# I could not figure it out 😦\n",
    "# Just run the cell again and it goes away 🤯"
   ]
  },
  {
   "cell_type": "markdown",
   "metadata": {
    "nbgrader": {
     "grade": false,
     "grade_id": "cell-4af37f6d4f991bdc",
     "locked": true,
     "schema_version": 3,
     "solution": false
    }
   },
   "source": [
    "Train the model\n",
    "----"
   ]
  },
  {
   "cell_type": "code",
   "execution_count": 26,
   "metadata": {
    "nbgrader": {
     "grade": false,
     "grade_id": "cell-9909f10b95abf8f9",
     "locked": true,
     "schema_version": 3,
     "solution": false
    }
   },
   "outputs": [
    {
     "name": "stdout",
     "output_type": "stream",
     "text": [
      "Training for 1500 steps ...\n",
      "Interval 1 (0 steps performed)\n",
      "    8/10000 [..............................] - ETA: 9:30 - reward: 1.0000 "
     ]
    },
    {
     "name": "stderr",
     "output_type": "stream",
     "text": [
      "/Users/brian/anaconda3/envs/rl/lib/python3.7/site-packages/rl/memory.py:40: UserWarning: Not enough entries to sample without replacement. Consider increasing your warm-up phase to avoid oversampling!\n",
      "  warnings.warn('Not enough entries to sample without replacement. Consider increasing your warm-up phase to avoid oversampling!')\n"
     ]
    },
    {
     "name": "stdout",
     "output_type": "stream",
     "text": [
      " 1499/10000 [===>..........................] - ETA: 4:36 - reward: 1.0000done, took 48.820 seconds\n"
     ]
    }
   ],
   "source": [
    "# Train model\n",
    "dqn.fit(env, \n",
    "        nb_steps=1_500,  # Do not change this. You have a fixed training budget!\n",
    "        visualize=False, # You can see a live performance of the model. WARNING- it might crash your notebook.\n",
    "        verbose=1        # 0 = Nothing, 1 = Progress bar 2 = Episode logging\n",
    "       );"
   ]
  },
  {
   "cell_type": "markdown",
   "metadata": {
    "nbgrader": {
     "grade": false,
     "grade_id": "cell-75523f1f1614a9ba",
     "locked": true,
     "schema_version": 3,
     "solution": false
    }
   },
   "source": [
    "Test the model\n",
    "----"
   ]
  },
  {
   "cell_type": "code",
   "execution_count": 27,
   "metadata": {
    "nbgrader": {
     "grade": false,
     "grade_id": "cell-dc76d501f98398d4",
     "locked": true,
     "schema_version": 3,
     "solution": false
    }
   },
   "outputs": [
    {
     "name": "stdout",
     "output_type": "stream",
     "text": [
      "Testing for 5 episodes ...\n",
      "Episode 1: reward: 9.000, steps: 9\n",
      "Episode 2: reward: 9.000, steps: 9\n",
      "Episode 3: reward: 8.000, steps: 8\n",
      "Episode 4: reward: 10.000, steps: 10\n",
      "Episode 5: reward: 10.000, steps: 10\n"
     ]
    }
   ],
   "source": [
    "# Test model\n",
    "test_results = dqn.test(env, \n",
    "                        nb_episodes=5, \n",
    "                        visualize=False, \n",
    "                        );"
   ]
  },
  {
   "cell_type": "code",
   "execution_count": 28,
   "metadata": {
    "nbgrader": {
     "grade": false,
     "grade_id": "cell-3403b66e6626a82e",
     "locked": true,
     "schema_version": 3,
     "solution": false
    }
   },
   "outputs": [
    {
     "name": "stdout",
     "output_type": "stream",
     "text": [
      "There current model gets an average of 9.50 steps.\n"
     ]
    }
   ],
   "source": [
    "# The max is 200 steps per eposide.\n",
    "# The goal of the assignment to train an agent that performs about 180 (on average).\n",
    "\n",
    "from statistics import mean\n",
    "\n",
    "# Remove the worst run\n",
    "test_results.history['episode_reward'].remove(min(test_results.history['episode_reward']))\n",
    "\n",
    "# Take the average the remaining runs\n",
    "test_performance = mean(test_results.history['episode_reward'])\n",
    "\n",
    "print(f\"There current model gets an average of {test_performance:.2f} steps.\")"
   ]
  },
  {
   "cell_type": "code",
   "execution_count": 29,
   "metadata": {
    "nbgrader": {
     "grade": true,
     "grade_id": "cell-ba1d196810b21f40",
     "locked": true,
     "points": 5,
     "schema_version": 3,
     "solution": false
    }
   },
   "outputs": [
    {
     "ename": "AssertionError",
     "evalue": "",
     "output_type": "error",
     "traceback": [
      "\u001b[0;31m---------------------------------------------------------------------------\u001b[0m",
      "\u001b[0;31mAssertionError\u001b[0m                            Traceback (most recent call last)",
      "\u001b[0;32m<ipython-input-29-e353aa7f68bd>\u001b[0m in \u001b[0;36m<module>\u001b[0;34m\u001b[0m\n\u001b[1;32m      1\u001b[0m \u001b[0;31m# 5 points for over 100 steps per eposide.\u001b[0m\u001b[0;34m\u001b[0m\u001b[0;34m\u001b[0m\u001b[0;34m\u001b[0m\u001b[0m\n\u001b[1;32m      2\u001b[0m \u001b[0;34m\u001b[0m\u001b[0m\n\u001b[0;32m----> 3\u001b[0;31m \u001b[0;32massert\u001b[0m \u001b[0mtest_performance\u001b[0m \u001b[0;34m>\u001b[0m \u001b[0;36m100.00\u001b[0m\u001b[0;34m\u001b[0m\u001b[0;34m\u001b[0m\u001b[0m\n\u001b[0m",
      "\u001b[0;31mAssertionError\u001b[0m: "
     ]
    }
   ],
   "source": [
    "# 5 points for over 100 steps per eposide.\n",
    "\n",
    "assert test_performance > 100.00"
   ]
  },
  {
   "cell_type": "code",
   "execution_count": null,
   "metadata": {
    "nbgrader": {
     "grade": true,
     "grade_id": "cell-ca8771487a5c5a1f",
     "locked": true,
     "points": 5,
     "schema_version": 3,
     "solution": false
    }
   },
   "outputs": [],
   "source": [
    "# 5 points for over 150 steps per eposide.\n",
    "\n",
    "assert test_performance > 150.00"
   ]
  },
  {
   "cell_type": "code",
   "execution_count": null,
   "metadata": {
    "nbgrader": {
     "grade": true,
     "grade_id": "cell-71810e3bdbc554a0",
     "locked": true,
     "points": 10,
     "schema_version": 3,
     "solution": false
    }
   },
   "outputs": [],
   "source": [
    "# 5 points for over 175 steps per eposide.\n",
    "\n",
    "assert test_performance > 175.00"
   ]
  },
  {
   "cell_type": "markdown",
   "metadata": {
    "nbgrader": {
     "grade": false,
     "grade_id": "cell-8ae4c53ab1f8b7b5",
     "locked": true,
     "schema_version": 3,
     "solution": false
    }
   },
   "source": [
    "Grading Submission Notes\n",
    "-------\n",
    "\n",
    "This is a high variance problem, different runs have widely different results. Brian trend to fix the randoms seeds with no luck 😉 (reproducibility is a known issue with OpenAI gym).\n",
    "\n",
    "You can submit a \"good\" run of your model. If there is output, I'll grade your submitted lab without running the notebook. If there is __not__ output, I'll run the notebook to get output to grade. "
   ]
  },
  {
   "cell_type": "markdown",
   "metadata": {
    "nbgrader": {
     "grade": false,
     "grade_id": "cell-7dd98b9ed96a3e94",
     "locked": true,
     "schema_version": 3,
     "solution": false
    }
   },
   "source": [
    "Bonus Material\n",
    "-----\n",
    "\n",
    "Learn more about CartPole from the physics and control-model perspective [here]\n",
    "(https://danielpiedrahita.wordpress.com/portfolio/cart-pole-control/).\n",
    "\n",
    "The more advanced version is \"cart-Pole Swing-up\" [here](https://www.youtube.com/watch?v=XiigTGKZfks)."
   ]
  },
  {
   "cell_type": "markdown",
   "metadata": {
    "nbgrader": {
     "grade": false,
     "grade_id": "cell-daf528ab83a826b8",
     "locked": true,
     "schema_version": 3,
     "solution": false
    }
   },
   "source": [
    "<br>\n",
    "<br> \n",
    "<br>\n",
    "\n",
    "----"
   ]
  }
 ],
 "metadata": {
  "celltoolbar": "Create Assignment",
  "kernelspec": {
   "display_name": "Python 3",
   "language": "python",
   "name": "python3"
  },
  "language_info": {
   "codemirror_mode": {
    "name": "ipython",
    "version": 3
   },
   "file_extension": ".py",
   "mimetype": "text/x-python",
   "name": "python",
   "nbconvert_exporter": "python",
   "pygments_lexer": "ipython3",
   "version": "3.7.7"
  },
  "toc": {
   "base_numbering": 1,
   "nav_menu": {},
   "number_sections": false,
   "sideBar": false,
   "skip_h1_title": false,
   "title_cell": "Table of Contents",
   "title_sidebar": "Contents",
   "toc_cell": true,
   "toc_position": {},
   "toc_section_display": true,
   "toc_window_display": false
  }
 },
 "nbformat": 4,
 "nbformat_minor": 2
}
