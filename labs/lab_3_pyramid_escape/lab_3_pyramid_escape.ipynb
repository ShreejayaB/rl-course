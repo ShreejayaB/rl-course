{
 "cells": [
  {
   "cell_type": "markdown",
   "metadata": {
    "nbgrader": {
     "grade": false,
     "grade_id": "cell-27d14d9ccebbf001",
     "locked": true,
     "schema_version": 3,
     "solution": false,
     "task": false
    },
    "toc": true
   },
   "source": [
    "<h1>Table of Contents<span class=\"tocSkip\"></span></h1>\n",
    "<div class=\"toc\"><ul class=\"toc-item\"><li><span><a href=\"#Lab-3:-Pyramid-Escape\" data-toc-modified-id=\"Lab-3:-Pyramid-Escape-1\">Lab 3: Pyramid Escape</a></span></li><li><span><a href=\"#Learning-Outcomes\" data-toc-modified-id=\"Learning-Outcomes-2\">Learning Outcomes</a></span></li><li><span><a href=\"#Code\" data-toc-modified-id=\"Code-3\">Code</a></span></li><li><span><a href=\"#Tests\" data-toc-modified-id=\"Tests-4\">Tests</a></span></li><li><span><a href=\"#Hints:\" data-toc-modified-id=\"Hints:-5\">Hints:</a></span></li></ul></div>"
   ]
  },
  {
   "cell_type": "markdown",
   "metadata": {
    "nbgrader": {
     "grade": false,
     "grade_id": "cell-5580a31b918cb972",
     "locked": true,
     "schema_version": 3,
     "solution": false,
     "task": false
    }
   },
   "source": [
    "Lab 3: Pyramid Escape\n",
    "-----\n",
    "\n",
    "![](https://upload.wikimedia.org/wikipedia/en/thumb/0/01/Nathan_Drake_Uc4_full_body_shot.png/220px-Nathan_Drake_Uc4_full_body_shot.png)\n",
    "<br>\n",
    "Imagine you are Nathan Drake, Laura Croft or Indiana Jones. You have just stolen treasure from the top of a pyramid (technically, you live in [flatland](https://en.wikipedia.org/wiki/Flatland) so it is triangle). \n",
    "\n",
    "You have to get out the bottom of pyramid by finding the easiest path possible. Each step in the descent has an associated weight. Your goal is to find the minimum total weight of the best path."
   ]
  },
  {
   "cell_type": "markdown",
   "metadata": {
    "nbgrader": {
     "grade": false,
     "grade_id": "cell-8102d9b8c409da32",
     "locked": true,
     "schema_version": 3,
     "solution": false,
     "task": false
    }
   },
   "source": [
    "Learning Outcomes\n",
    "----\n",
    "\n",
    "__By the end of this session, you should be able to__:\n",
    "\n",
    "- Write a function that uses dynamic programming to find an optimal path.\n",
    "- Write efficient code to solve the problem.\n",
    "- Explain your logic to solve the problem."
   ]
  },
  {
   "cell_type": "markdown",
   "metadata": {
    "nbgrader": {
     "grade": false,
     "grade_id": "cell-b1b334c41a6f742d",
     "locked": true,
     "schema_version": 3,
     "solution": false,
     "task": false
    }
   },
   "source": [
    "Code\n",
    "-----"
   ]
  },
  {
   "cell_type": "code",
   "execution_count": 59,
   "metadata": {
    "nbgrader": {
     "grade": false,
     "grade_id": "cell-c30740b88e5c9ff3",
     "locked": true,
     "schema_version": 3,
     "solution": false,
     "task": false
    }
   },
   "outputs": [],
   "source": [
    "reset -fs"
   ]
  },
  {
   "cell_type": "code",
   "execution_count": 60,
   "metadata": {
    "nbgrader": {
     "grade": false,
     "grade_id": "cell-b40531bd4a9f86c0",
     "locked": false,
     "schema_version": 3,
     "solution": true,
     "task": false
    }
   },
   "outputs": [],
   "source": [
    "\"\"\"Write the following function using dynamic programming.\n",
    "\"\"\"\n",
    "\n",
    "def min_path_weight(pyramind)-> int:\n",
    "    \"Find sum for minimum path through pyramind.\"\n",
    "    \n",
    "    # TODO: Write your solution below here\n",
    "    \n",
    "\n",
    "    \n",
    "    "
   ]
  },
  {
   "cell_type": "markdown",
   "metadata": {
    "nbgrader": {
     "grade": false,
     "grade_id": "cell-ffc9cfca4d4d0ee6",
     "locked": true,
     "schema_version": 3,
     "solution": false,
     "task": false
    }
   },
   "source": [
    "Tests\n",
    "----"
   ]
  },
  {
   "cell_type": "code",
   "execution_count": 61,
   "metadata": {
    "nbgrader": {
     "grade": true,
     "grade_id": "cell-bfafcec610a29fa9",
     "locked": true,
     "points": 1,
     "schema_version": 3,
     "solution": false,
     "task": false
    }
   },
   "outputs": [],
   "source": [
    "# A short pyramind. \n",
    "\n",
    "pyramind = [      [1],\n",
    "                 [4, 3],\n",
    "               [1, 5, 1],\n",
    "             [1, 5, 9, 9],\n",
    "            [1, 5, 9, 8, 7],\n",
    "           ] \n",
    "\n",
    "assert min_path_weight(pyramind) == 8 \n",
    "# Another way to think of this solution is: sum([1, 4, 1, 1, 1])\n",
    "\n",
    "# Note: a greedy policy will not find the min!\n",
    "assert min_path_weight(pyramind) != 21 \n",
    "# Another way to think of this solution is: sum([1, 3, 1, 9, 7])"
   ]
  },
  {
   "cell_type": "code",
   "execution_count": 62,
   "metadata": {
    "nbgrader": {
     "grade": true,
     "grade_id": "cell-27fe775fa174f456",
     "locked": true,
     "points": 1,
     "schema_version": 3,
     "solution": false,
     "task": false
    }
   },
   "outputs": [],
   "source": [
    "# Another short pyramind.\n",
    "\n",
    "pyramind = [      [2],\n",
    "                 [4, 3],\n",
    "               [8, 5, 6],\n",
    "             [4, 2, 6, 2],\n",
    "            [1, 5, 2, 3, 4],\n",
    "           ] \n",
    "\n",
    "assert min_path_weight(pyramind) == 14 == sum([2, 3, 5, 2, 2]) "
   ]
  },
  {
   "cell_type": "code",
   "execution_count": 63,
   "metadata": {
    "nbgrader": {
     "grade": false,
     "grade_id": "cell-1e04264bde8274f4",
     "locked": true,
     "schema_version": 3,
     "solution": false,
     "task": false
    }
   },
   "outputs": [],
   "source": [
    "import pickle\n",
    "\n",
    "# The pyraminds are stored on disk as popo (plain old Python objects) in binary format to save space.\n",
    "# Once loaded into memory they can printed as a lol (list of lists).\n",
    "# If you print a big pyramind, you'll overload the DOM (Document Object Model)"
   ]
  },
  {
   "cell_type": "code",
   "execution_count": 64,
   "metadata": {
    "nbgrader": {
     "grade": true,
     "grade_id": "cell-7b8b982fc4709e7a",
     "locked": true,
     "points": 1,
     "schema_version": 3,
     "solution": false,
     "task": false
    }
   },
   "outputs": [],
   "source": [
    "# Taller pyramind\n",
    "with open(\"pyramind_with_10_levels\", \"rb\") as f:\n",
    "    pyramind_with_10_levels = pickle.load(f)\n",
    "    \n",
    "assert min_path_weight(pyramind=pyramind_with_10_levels) == 22"
   ]
  },
  {
   "cell_type": "code",
   "execution_count": 65,
   "metadata": {
    "nbgrader": {
     "grade": true,
     "grade_id": "cell-c3b49b981a692362",
     "locked": true,
     "points": 1,
     "schema_version": 3,
     "solution": false,
     "task": false
    }
   },
   "outputs": [],
   "source": [
    "# Even taller pyramind\n",
    "with open(\"pyramind_with_100_levels\", \"rb\") as f:\n",
    "    pyramind_with_100_levels = pickle.load(f)\n",
    "    \n",
    "assert min_path_weight(pyramind=pyramind_with_100_levels) == 193"
   ]
  },
  {
   "cell_type": "code",
   "execution_count": 66,
   "metadata": {
    "nbgrader": {
     "grade": true,
     "grade_id": "cell-2b0f93b1e3769acb",
     "locked": true,
     "points": 1,
     "schema_version": 3,
     "solution": false,
     "task": false
    }
   },
   "outputs": [],
   "source": [
    "# \"Now we getting somewhere with height\" pyramind\n",
    "with open(\"pyramind_with_1000_levels\", \"rb\") as f:\n",
    "    pyramind_with_1000_levels = pickle.load(f)\n",
    "    \n",
    "assert min_path_weight(pyramind=pyramind_with_1000_levels) == 2048 "
   ]
  },
  {
   "cell_type": "code",
   "execution_count": 67,
   "metadata": {
    "nbgrader": {
     "grade": true,
     "grade_id": "cell-68ebac116a4394d7",
     "locked": true,
     "points": 1,
     "schema_version": 3,
     "solution": false,
     "task": false
    }
   },
   "outputs": [],
   "source": [
    "# Let's see if your solutions scales 😜\n",
    "with open(\"pyramind_with_2000_levels\", \"rb\") as f:\n",
    "    pyramind_with_2000_levels = pickle.load(f)\n",
    "\n",
    "assert min_path_weight(pyramind=pyramind_with_2000_levels) == 4057"
   ]
  },
  {
   "cell_type": "code",
   "execution_count": 68,
   "metadata": {
    "nbgrader": {
     "grade": false,
     "grade_id": "cell-8538ede8a3ce1d83",
     "locked": true,
     "schema_version": 3,
     "solution": false,
     "task": false
    }
   },
   "outputs": [
    {
     "name": "stdout",
     "output_type": "stream",
     "text": [
      "1.59 s ± 31 ms per loop (mean ± std. dev. of 7 runs, 1 loop each)\n"
     ]
    }
   ],
   "source": [
    "# Benchmark code speed\n",
    "%timeit -n 1 min_path_weight(pyramind_with_2000_levels)  #=> 1.46 s ± 33.3 ms per loop (mean ± std. dev. of 7 runs, 1 loop each)"
   ]
  },
  {
   "cell_type": "markdown",
   "metadata": {
    "nbgrader": {
     "grade": false,
     "grade_id": "cell-c2df59bdef56aebe",
     "locked": true,
     "schema_version": 3,
     "solution": false,
     "task": false
    }
   },
   "source": [
    "Hints:\n",
    "------\n",
    "\n",
    "- You can have a variable called `min_weight_to_current_row`. Print that variable out at each row to help debug.\n",
    "- You might want to start with one or two level pyramid.\n",
    "- On Brian's old (i.e., slow) laptop it takes less than 2 seconds to find the best path through 2,000 levels. Your code does not need to be that fast but points can be deducted for slow code. Performance is a feature!"
   ]
  },
  {
   "cell_type": "markdown",
   "metadata": {
    "nbgrader": {
     "grade": false,
     "grade_id": "cell-65c3c20860e1ba4a",
     "locked": true,
     "schema_version": 3,
     "solution": false,
     "task": false
    }
   },
   "source": [
    "<br>\n",
    "<br> \n",
    "<br>\n",
    "\n",
    "----"
   ]
  }
 ],
 "metadata": {
  "celltoolbar": "Create Assignment",
  "kernelspec": {
   "display_name": "Python 3",
   "language": "python",
   "name": "python3"
  },
  "language_info": {
   "codemirror_mode": {
    "name": "ipython",
    "version": 3
   },
   "file_extension": ".py",
   "mimetype": "text/x-python",
   "name": "python",
   "nbconvert_exporter": "python",
   "pygments_lexer": "ipython3",
   "version": "3.7.7"
  },
  "toc": {
   "base_numbering": 1,
   "nav_menu": {},
   "number_sections": false,
   "sideBar": false,
   "skip_h1_title": false,
   "title_cell": "Table of Contents",
   "title_sidebar": "Contents",
   "toc_cell": true,
   "toc_position": {},
   "toc_section_display": true,
   "toc_window_display": false
  }
 },
 "nbformat": 4,
 "nbformat_minor": 4
}
